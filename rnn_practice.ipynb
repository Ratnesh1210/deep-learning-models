{
  "nbformat": 4,
  "nbformat_minor": 0,
  "metadata": {
    "colab": {
      "provenance": [],
      "authorship_tag": "ABX9TyOm0U9FndNi4vW/1mtYCBLi",
      "include_colab_link": true
    },
    "kernelspec": {
      "name": "python3",
      "display_name": "Python 3"
    },
    "language_info": {
      "name": "python"
    }
  },
  "cells": [
    {
      "cell_type": "markdown",
      "metadata": {
        "id": "view-in-github",
        "colab_type": "text"
      },
      "source": [
        "<a href=\"https://colab.research.google.com/github/Ratnesh1210/deep-learning-models/blob/RNN/rnn_practice.ipynb\" target=\"_parent\"><img src=\"https://colab.research.google.com/assets/colab-badge.svg\" alt=\"Open In Colab\"/></a>"
      ]
    },
    {
      "cell_type": "code",
      "execution_count": null,
      "metadata": {
        "id": "F_4Gmpb-vC8_"
      },
      "outputs": [],
      "source": [
        "import pandas as pd"
      ]
    },
    {
      "cell_type": "code",
      "source": [
        "df=pd.read_csv('/content/data.csv')"
      ],
      "metadata": {
        "id": "QtpWI8cFvVvx"
      },
      "execution_count": null,
      "outputs": []
    },
    {
      "cell_type": "code",
      "source": [
        "df"
      ],
      "metadata": {
        "colab": {
          "base_uri": "https://localhost:8080/",
          "height": 423
        },
        "id": "YPS-nFoJvkwp",
        "outputId": "5447be55-969a-4e83-d1a7-67f2011b059b"
      },
      "execution_count": null,
      "outputs": [
        {
          "output_type": "execute_result",
          "data": {
            "text/plain": [
              "      Unnamed: 0                                               Text     Label\n",
              "0              0  from   phill hallam baker  subject  re  waco s...  politics\n",
              "1              1  from   matthew t  russotto  subject  re  welco...  politics\n",
              "2              2  from   russ curry  subject  re  janet reno kil...  politics\n",
              "3              3  from   paul havemann  subject  re  gore throws...  politics\n",
              "4              4  from   clinton gore      subject  clinton  pre...  politics\n",
              "...          ...                                                ...       ...\n",
              "5346        5346  from   alan sepinwall  subject  re  wfan  in a...  baseball\n",
              "5347        5347  from   sherri nichols  subject  re  relative v...  baseball\n",
              "5348        5348  from   david robert walker  subject  re  how t...  baseball\n",
              "5349        5349  from   dale stephenson  subject  re  giants  g...  baseball\n",
              "5350        5350  from  the liberalizer  michael lurie  subject ...  baseball\n",
              "\n",
              "[5351 rows x 3 columns]"
            ],
            "text/html": [
              "\n",
              "  <div id=\"df-fbc61fe1-3060-4ded-a164-8a094199299e\" class=\"colab-df-container\">\n",
              "    <div>\n",
              "<style scoped>\n",
              "    .dataframe tbody tr th:only-of-type {\n",
              "        vertical-align: middle;\n",
              "    }\n",
              "\n",
              "    .dataframe tbody tr th {\n",
              "        vertical-align: top;\n",
              "    }\n",
              "\n",
              "    .dataframe thead th {\n",
              "        text-align: right;\n",
              "    }\n",
              "</style>\n",
              "<table border=\"1\" class=\"dataframe\">\n",
              "  <thead>\n",
              "    <tr style=\"text-align: right;\">\n",
              "      <th></th>\n",
              "      <th>Unnamed: 0</th>\n",
              "      <th>Text</th>\n",
              "      <th>Label</th>\n",
              "    </tr>\n",
              "  </thead>\n",
              "  <tbody>\n",
              "    <tr>\n",
              "      <th>0</th>\n",
              "      <td>0</td>\n",
              "      <td>from   phill hallam baker  subject  re  waco s...</td>\n",
              "      <td>politics</td>\n",
              "    </tr>\n",
              "    <tr>\n",
              "      <th>1</th>\n",
              "      <td>1</td>\n",
              "      <td>from   matthew t  russotto  subject  re  welco...</td>\n",
              "      <td>politics</td>\n",
              "    </tr>\n",
              "    <tr>\n",
              "      <th>2</th>\n",
              "      <td>2</td>\n",
              "      <td>from   russ curry  subject  re  janet reno kil...</td>\n",
              "      <td>politics</td>\n",
              "    </tr>\n",
              "    <tr>\n",
              "      <th>3</th>\n",
              "      <td>3</td>\n",
              "      <td>from   paul havemann  subject  re  gore throws...</td>\n",
              "      <td>politics</td>\n",
              "    </tr>\n",
              "    <tr>\n",
              "      <th>4</th>\n",
              "      <td>4</td>\n",
              "      <td>from   clinton gore      subject  clinton  pre...</td>\n",
              "      <td>politics</td>\n",
              "    </tr>\n",
              "    <tr>\n",
              "      <th>...</th>\n",
              "      <td>...</td>\n",
              "      <td>...</td>\n",
              "      <td>...</td>\n",
              "    </tr>\n",
              "    <tr>\n",
              "      <th>5346</th>\n",
              "      <td>5346</td>\n",
              "      <td>from   alan sepinwall  subject  re  wfan  in a...</td>\n",
              "      <td>baseball</td>\n",
              "    </tr>\n",
              "    <tr>\n",
              "      <th>5347</th>\n",
              "      <td>5347</td>\n",
              "      <td>from   sherri nichols  subject  re  relative v...</td>\n",
              "      <td>baseball</td>\n",
              "    </tr>\n",
              "    <tr>\n",
              "      <th>5348</th>\n",
              "      <td>5348</td>\n",
              "      <td>from   david robert walker  subject  re  how t...</td>\n",
              "      <td>baseball</td>\n",
              "    </tr>\n",
              "    <tr>\n",
              "      <th>5349</th>\n",
              "      <td>5349</td>\n",
              "      <td>from   dale stephenson  subject  re  giants  g...</td>\n",
              "      <td>baseball</td>\n",
              "    </tr>\n",
              "    <tr>\n",
              "      <th>5350</th>\n",
              "      <td>5350</td>\n",
              "      <td>from  the liberalizer  michael lurie  subject ...</td>\n",
              "      <td>baseball</td>\n",
              "    </tr>\n",
              "  </tbody>\n",
              "</table>\n",
              "<p>5351 rows × 3 columns</p>\n",
              "</div>\n",
              "    <div class=\"colab-df-buttons\">\n",
              "\n",
              "  <div class=\"colab-df-container\">\n",
              "    <button class=\"colab-df-convert\" onclick=\"convertToInteractive('df-fbc61fe1-3060-4ded-a164-8a094199299e')\"\n",
              "            title=\"Convert this dataframe to an interactive table.\"\n",
              "            style=\"display:none;\">\n",
              "\n",
              "  <svg xmlns=\"http://www.w3.org/2000/svg\" height=\"24px\" viewBox=\"0 -960 960 960\">\n",
              "    <path d=\"M120-120v-720h720v720H120Zm60-500h600v-160H180v160Zm220 220h160v-160H400v160Zm0 220h160v-160H400v160ZM180-400h160v-160H180v160Zm440 0h160v-160H620v160ZM180-180h160v-160H180v160Zm440 0h160v-160H620v160Z\"/>\n",
              "  </svg>\n",
              "    </button>\n",
              "\n",
              "  <style>\n",
              "    .colab-df-container {\n",
              "      display:flex;\n",
              "      gap: 12px;\n",
              "    }\n",
              "\n",
              "    .colab-df-convert {\n",
              "      background-color: #E8F0FE;\n",
              "      border: none;\n",
              "      border-radius: 50%;\n",
              "      cursor: pointer;\n",
              "      display: none;\n",
              "      fill: #1967D2;\n",
              "      height: 32px;\n",
              "      padding: 0 0 0 0;\n",
              "      width: 32px;\n",
              "    }\n",
              "\n",
              "    .colab-df-convert:hover {\n",
              "      background-color: #E2EBFA;\n",
              "      box-shadow: 0px 1px 2px rgba(60, 64, 67, 0.3), 0px 1px 3px 1px rgba(60, 64, 67, 0.15);\n",
              "      fill: #174EA6;\n",
              "    }\n",
              "\n",
              "    .colab-df-buttons div {\n",
              "      margin-bottom: 4px;\n",
              "    }\n",
              "\n",
              "    [theme=dark] .colab-df-convert {\n",
              "      background-color: #3B4455;\n",
              "      fill: #D2E3FC;\n",
              "    }\n",
              "\n",
              "    [theme=dark] .colab-df-convert:hover {\n",
              "      background-color: #434B5C;\n",
              "      box-shadow: 0px 1px 3px 1px rgba(0, 0, 0, 0.15);\n",
              "      filter: drop-shadow(0px 1px 2px rgba(0, 0, 0, 0.3));\n",
              "      fill: #FFFFFF;\n",
              "    }\n",
              "  </style>\n",
              "\n",
              "    <script>\n",
              "      const buttonEl =\n",
              "        document.querySelector('#df-fbc61fe1-3060-4ded-a164-8a094199299e button.colab-df-convert');\n",
              "      buttonEl.style.display =\n",
              "        google.colab.kernel.accessAllowed ? 'block' : 'none';\n",
              "\n",
              "      async function convertToInteractive(key) {\n",
              "        const element = document.querySelector('#df-fbc61fe1-3060-4ded-a164-8a094199299e');\n",
              "        const dataTable =\n",
              "          await google.colab.kernel.invokeFunction('convertToInteractive',\n",
              "                                                    [key], {});\n",
              "        if (!dataTable) return;\n",
              "\n",
              "        const docLinkHtml = 'Like what you see? Visit the ' +\n",
              "          '<a target=\"_blank\" href=https://colab.research.google.com/notebooks/data_table.ipynb>data table notebook</a>'\n",
              "          + ' to learn more about interactive tables.';\n",
              "        element.innerHTML = '';\n",
              "        dataTable['output_type'] = 'display_data';\n",
              "        await google.colab.output.renderOutput(dataTable, element);\n",
              "        const docLink = document.createElement('div');\n",
              "        docLink.innerHTML = docLinkHtml;\n",
              "        element.appendChild(docLink);\n",
              "      }\n",
              "    </script>\n",
              "  </div>\n",
              "\n",
              "\n",
              "<div id=\"df-9cd8dc25-e8b4-40e0-85e2-5bbb1a95d48b\">\n",
              "  <button class=\"colab-df-quickchart\" onclick=\"quickchart('df-9cd8dc25-e8b4-40e0-85e2-5bbb1a95d48b')\"\n",
              "            title=\"Suggest charts\"\n",
              "            style=\"display:none;\">\n",
              "\n",
              "<svg xmlns=\"http://www.w3.org/2000/svg\" height=\"24px\"viewBox=\"0 0 24 24\"\n",
              "     width=\"24px\">\n",
              "    <g>\n",
              "        <path d=\"M19 3H5c-1.1 0-2 .9-2 2v14c0 1.1.9 2 2 2h14c1.1 0 2-.9 2-2V5c0-1.1-.9-2-2-2zM9 17H7v-7h2v7zm4 0h-2V7h2v10zm4 0h-2v-4h2v4z\"/>\n",
              "    </g>\n",
              "</svg>\n",
              "  </button>\n",
              "\n",
              "<style>\n",
              "  .colab-df-quickchart {\n",
              "      --bg-color: #E8F0FE;\n",
              "      --fill-color: #1967D2;\n",
              "      --hover-bg-color: #E2EBFA;\n",
              "      --hover-fill-color: #174EA6;\n",
              "      --disabled-fill-color: #AAA;\n",
              "      --disabled-bg-color: #DDD;\n",
              "  }\n",
              "\n",
              "  [theme=dark] .colab-df-quickchart {\n",
              "      --bg-color: #3B4455;\n",
              "      --fill-color: #D2E3FC;\n",
              "      --hover-bg-color: #434B5C;\n",
              "      --hover-fill-color: #FFFFFF;\n",
              "      --disabled-bg-color: #3B4455;\n",
              "      --disabled-fill-color: #666;\n",
              "  }\n",
              "\n",
              "  .colab-df-quickchart {\n",
              "    background-color: var(--bg-color);\n",
              "    border: none;\n",
              "    border-radius: 50%;\n",
              "    cursor: pointer;\n",
              "    display: none;\n",
              "    fill: var(--fill-color);\n",
              "    height: 32px;\n",
              "    padding: 0;\n",
              "    width: 32px;\n",
              "  }\n",
              "\n",
              "  .colab-df-quickchart:hover {\n",
              "    background-color: var(--hover-bg-color);\n",
              "    box-shadow: 0 1px 2px rgba(60, 64, 67, 0.3), 0 1px 3px 1px rgba(60, 64, 67, 0.15);\n",
              "    fill: var(--button-hover-fill-color);\n",
              "  }\n",
              "\n",
              "  .colab-df-quickchart-complete:disabled,\n",
              "  .colab-df-quickchart-complete:disabled:hover {\n",
              "    background-color: var(--disabled-bg-color);\n",
              "    fill: var(--disabled-fill-color);\n",
              "    box-shadow: none;\n",
              "  }\n",
              "\n",
              "  .colab-df-spinner {\n",
              "    border: 2px solid var(--fill-color);\n",
              "    border-color: transparent;\n",
              "    border-bottom-color: var(--fill-color);\n",
              "    animation:\n",
              "      spin 1s steps(1) infinite;\n",
              "  }\n",
              "\n",
              "  @keyframes spin {\n",
              "    0% {\n",
              "      border-color: transparent;\n",
              "      border-bottom-color: var(--fill-color);\n",
              "      border-left-color: var(--fill-color);\n",
              "    }\n",
              "    20% {\n",
              "      border-color: transparent;\n",
              "      border-left-color: var(--fill-color);\n",
              "      border-top-color: var(--fill-color);\n",
              "    }\n",
              "    30% {\n",
              "      border-color: transparent;\n",
              "      border-left-color: var(--fill-color);\n",
              "      border-top-color: var(--fill-color);\n",
              "      border-right-color: var(--fill-color);\n",
              "    }\n",
              "    40% {\n",
              "      border-color: transparent;\n",
              "      border-right-color: var(--fill-color);\n",
              "      border-top-color: var(--fill-color);\n",
              "    }\n",
              "    60% {\n",
              "      border-color: transparent;\n",
              "      border-right-color: var(--fill-color);\n",
              "    }\n",
              "    80% {\n",
              "      border-color: transparent;\n",
              "      border-right-color: var(--fill-color);\n",
              "      border-bottom-color: var(--fill-color);\n",
              "    }\n",
              "    90% {\n",
              "      border-color: transparent;\n",
              "      border-bottom-color: var(--fill-color);\n",
              "    }\n",
              "  }\n",
              "</style>\n",
              "\n",
              "  <script>\n",
              "    async function quickchart(key) {\n",
              "      const quickchartButtonEl =\n",
              "        document.querySelector('#' + key + ' button');\n",
              "      quickchartButtonEl.disabled = true;  // To prevent multiple clicks.\n",
              "      quickchartButtonEl.classList.add('colab-df-spinner');\n",
              "      try {\n",
              "        const charts = await google.colab.kernel.invokeFunction(\n",
              "            'suggestCharts', [key], {});\n",
              "      } catch (error) {\n",
              "        console.error('Error during call to suggestCharts:', error);\n",
              "      }\n",
              "      quickchartButtonEl.classList.remove('colab-df-spinner');\n",
              "      quickchartButtonEl.classList.add('colab-df-quickchart-complete');\n",
              "    }\n",
              "    (() => {\n",
              "      let quickchartButtonEl =\n",
              "        document.querySelector('#df-9cd8dc25-e8b4-40e0-85e2-5bbb1a95d48b button');\n",
              "      quickchartButtonEl.style.display =\n",
              "        google.colab.kernel.accessAllowed ? 'block' : 'none';\n",
              "    })();\n",
              "  </script>\n",
              "</div>\n",
              "    </div>\n",
              "  </div>\n"
            ],
            "application/vnd.google.colaboratory.intrinsic+json": {
              "type": "dataframe",
              "variable_name": "df",
              "summary": "{\n  \"name\": \"df\",\n  \"rows\": 5351,\n  \"fields\": [\n    {\n      \"column\": \"Unnamed: 0\",\n      \"properties\": {\n        \"dtype\": \"number\",\n        \"std\": 1544,\n        \"min\": 0,\n        \"max\": 5350,\n        \"num_unique_values\": 5351,\n        \"samples\": [\n          3413,\n          1650,\n          401\n        ],\n        \"semantic_type\": \"\",\n        \"description\": \"\"\n      }\n    },\n    {\n      \"column\": \"Text\",\n      \"properties\": {\n        \"dtype\": \"string\",\n        \"num_unique_values\": 5347,\n        \"samples\": [\n          \"from   bill higgins   beam jockey  subject  re  level     in article    bret wingert  writes       the onboard flight software project was rated  level    by a nasa team       this group generates       kslocs of verified code per year for nasa   will someone tell an ignorant physicist where the term  level    comes from  it sounds like the risks digest  equivalent of large  extra large  jumbo    or maybe it s like  defcon        i gather it means that shuttle software was developed with extreme care to have reliablility and safety  and almost everything else in the computing world is level    or cheesy dime store software   not surprising   but who is it that invents this standard  and how come everyone but me seems to be familiar with it   of course  what shakespeare          bill higgins  beam jockey originally wrote was  first thing    fermi national accelerator laboratory   we do  let s kill all the editors    bitnet              but for some reason it didn t        internet          survive past the first draft         span hepnet                   higgins      david d   laserdave  levine \",\n          \"from   frank michae salvatore  subject  nc caps isles fans   caps isles fans   anyone interested in catching the games from nassau coliseum  hopefully there will be another  can catch the game at north carolina s original sports bar in chapel hill   i m pretty sure they carry hts as well  they had all three games on at the same time last night   this is the only place i know to catch all of the stanley cup action   frank salvatore \",\n          \"from   dave o shea  subject  re  if drugs should be legalized  how    was good neighbor       william december starr  writes       however  legalizing it and just sticking some drugs in gas stations to     be bought like cigarettes is just plain silly   plus  i have never     heard of a recommended dosage for drugs like crack  ecstasy  chrystal     meth and lsd   the    minute report said it worked with  cocaine      cigarettes  pot and heroin       or  the government could adopt the radical and probably unamerican idea   that citizens are free to live their lives as they wish  and simply   decriminalize cocaine  marijuana  heroin  lsd  etc   please explain why   the idea of allowing recreational drugs to be  bought like cigarettes    is  just plain silly    after all  it works just fine for nicotine     i m all in favor of drug legalization  but i do see some problems with it  my hope is that people disposed to doing so would simply overdose quickly  and be done with it  before making a mess of thisgs      let me get this straight  medical treatment costs too much and is inefficient  so we re going to let government make it better   \"\n        ],\n        \"semantic_type\": \"\",\n        \"description\": \"\"\n      }\n    },\n    {\n      \"column\": \"Label\",\n      \"properties\": {\n        \"dtype\": \"category\",\n        \"num_unique_values\": 6,\n        \"samples\": [\n          \"politics\",\n          \"religion\",\n          \"baseball\"\n        ],\n        \"semantic_type\": \"\",\n        \"description\": \"\"\n      }\n    }\n  ]\n}"
            }
          },
          "metadata": {},
          "execution_count": 80
        }
      ]
    },
    {
      "cell_type": "code",
      "source": [
        "df['Label'].value_counts()"
      ],
      "metadata": {
        "colab": {
          "base_uri": "https://localhost:8080/"
        },
        "id": "J1PuQ-wJ59zx",
        "outputId": "d16d33d4-8783-4e0d-b48e-6c99ea67a797"
      },
      "execution_count": null,
      "outputs": [
        {
          "output_type": "execute_result",
          "data": {
            "text/plain": [
              "Label\n",
              "hockey             993\n",
              "medical_science    987\n",
              "baseball           987\n",
              "space              984\n",
              "politics           775\n",
              "religion           625\n",
              "Name: count, dtype: int64"
            ]
          },
          "metadata": {},
          "execution_count": 81
        }
      ]
    },
    {
      "cell_type": "code",
      "source": [
        "df.info()"
      ],
      "metadata": {
        "colab": {
          "base_uri": "https://localhost:8080/"
        },
        "id": "-cNnaXy6vxBw",
        "outputId": "550027f6-b4c9-4322-e4c9-16b04ff8a1bc"
      },
      "execution_count": null,
      "outputs": [
        {
          "output_type": "stream",
          "name": "stdout",
          "text": [
            "<class 'pandas.core.frame.DataFrame'>\n",
            "RangeIndex: 5351 entries, 0 to 5350\n",
            "Data columns (total 3 columns):\n",
            " #   Column      Non-Null Count  Dtype \n",
            "---  ------      --------------  ----- \n",
            " 0   Unnamed: 0  5351 non-null   int64 \n",
            " 1   Text        5351 non-null   object\n",
            " 2   Label       5351 non-null   object\n",
            "dtypes: int64(1), object(2)\n",
            "memory usage: 125.5+ KB\n"
          ]
        }
      ]
    },
    {
      "cell_type": "code",
      "source": [
        "df.dropna(subset=['Label'], inplace=True)"
      ],
      "metadata": {
        "id": "7ZlbnKmzv6G2"
      },
      "execution_count": null,
      "outputs": []
    },
    {
      "cell_type": "code",
      "source": [
        "df"
      ],
      "metadata": {
        "colab": {
          "base_uri": "https://localhost:8080/",
          "height": 423
        },
        "id": "NW189NeiwQgd",
        "outputId": "0b5ed168-45d6-4c41-a534-c350e361428f"
      },
      "execution_count": null,
      "outputs": [
        {
          "output_type": "execute_result",
          "data": {
            "text/plain": [
              "      Unnamed: 0                                               Text     Label\n",
              "0              0  from   phill hallam baker  subject  re  waco s...  politics\n",
              "1              1  from   matthew t  russotto  subject  re  welco...  politics\n",
              "2              2  from   russ curry  subject  re  janet reno kil...  politics\n",
              "3              3  from   paul havemann  subject  re  gore throws...  politics\n",
              "4              4  from   clinton gore      subject  clinton  pre...  politics\n",
              "...          ...                                                ...       ...\n",
              "5346        5346  from   alan sepinwall  subject  re  wfan  in a...  baseball\n",
              "5347        5347  from   sherri nichols  subject  re  relative v...  baseball\n",
              "5348        5348  from   david robert walker  subject  re  how t...  baseball\n",
              "5349        5349  from   dale stephenson  subject  re  giants  g...  baseball\n",
              "5350        5350  from  the liberalizer  michael lurie  subject ...  baseball\n",
              "\n",
              "[5351 rows x 3 columns]"
            ],
            "text/html": [
              "\n",
              "  <div id=\"df-362e1a7f-3250-4cbc-a096-4cb599750fb5\" class=\"colab-df-container\">\n",
              "    <div>\n",
              "<style scoped>\n",
              "    .dataframe tbody tr th:only-of-type {\n",
              "        vertical-align: middle;\n",
              "    }\n",
              "\n",
              "    .dataframe tbody tr th {\n",
              "        vertical-align: top;\n",
              "    }\n",
              "\n",
              "    .dataframe thead th {\n",
              "        text-align: right;\n",
              "    }\n",
              "</style>\n",
              "<table border=\"1\" class=\"dataframe\">\n",
              "  <thead>\n",
              "    <tr style=\"text-align: right;\">\n",
              "      <th></th>\n",
              "      <th>Unnamed: 0</th>\n",
              "      <th>Text</th>\n",
              "      <th>Label</th>\n",
              "    </tr>\n",
              "  </thead>\n",
              "  <tbody>\n",
              "    <tr>\n",
              "      <th>0</th>\n",
              "      <td>0</td>\n",
              "      <td>from   phill hallam baker  subject  re  waco s...</td>\n",
              "      <td>politics</td>\n",
              "    </tr>\n",
              "    <tr>\n",
              "      <th>1</th>\n",
              "      <td>1</td>\n",
              "      <td>from   matthew t  russotto  subject  re  welco...</td>\n",
              "      <td>politics</td>\n",
              "    </tr>\n",
              "    <tr>\n",
              "      <th>2</th>\n",
              "      <td>2</td>\n",
              "      <td>from   russ curry  subject  re  janet reno kil...</td>\n",
              "      <td>politics</td>\n",
              "    </tr>\n",
              "    <tr>\n",
              "      <th>3</th>\n",
              "      <td>3</td>\n",
              "      <td>from   paul havemann  subject  re  gore throws...</td>\n",
              "      <td>politics</td>\n",
              "    </tr>\n",
              "    <tr>\n",
              "      <th>4</th>\n",
              "      <td>4</td>\n",
              "      <td>from   clinton gore      subject  clinton  pre...</td>\n",
              "      <td>politics</td>\n",
              "    </tr>\n",
              "    <tr>\n",
              "      <th>...</th>\n",
              "      <td>...</td>\n",
              "      <td>...</td>\n",
              "      <td>...</td>\n",
              "    </tr>\n",
              "    <tr>\n",
              "      <th>5346</th>\n",
              "      <td>5346</td>\n",
              "      <td>from   alan sepinwall  subject  re  wfan  in a...</td>\n",
              "      <td>baseball</td>\n",
              "    </tr>\n",
              "    <tr>\n",
              "      <th>5347</th>\n",
              "      <td>5347</td>\n",
              "      <td>from   sherri nichols  subject  re  relative v...</td>\n",
              "      <td>baseball</td>\n",
              "    </tr>\n",
              "    <tr>\n",
              "      <th>5348</th>\n",
              "      <td>5348</td>\n",
              "      <td>from   david robert walker  subject  re  how t...</td>\n",
              "      <td>baseball</td>\n",
              "    </tr>\n",
              "    <tr>\n",
              "      <th>5349</th>\n",
              "      <td>5349</td>\n",
              "      <td>from   dale stephenson  subject  re  giants  g...</td>\n",
              "      <td>baseball</td>\n",
              "    </tr>\n",
              "    <tr>\n",
              "      <th>5350</th>\n",
              "      <td>5350</td>\n",
              "      <td>from  the liberalizer  michael lurie  subject ...</td>\n",
              "      <td>baseball</td>\n",
              "    </tr>\n",
              "  </tbody>\n",
              "</table>\n",
              "<p>5351 rows × 3 columns</p>\n",
              "</div>\n",
              "    <div class=\"colab-df-buttons\">\n",
              "\n",
              "  <div class=\"colab-df-container\">\n",
              "    <button class=\"colab-df-convert\" onclick=\"convertToInteractive('df-362e1a7f-3250-4cbc-a096-4cb599750fb5')\"\n",
              "            title=\"Convert this dataframe to an interactive table.\"\n",
              "            style=\"display:none;\">\n",
              "\n",
              "  <svg xmlns=\"http://www.w3.org/2000/svg\" height=\"24px\" viewBox=\"0 -960 960 960\">\n",
              "    <path d=\"M120-120v-720h720v720H120Zm60-500h600v-160H180v160Zm220 220h160v-160H400v160Zm0 220h160v-160H400v160ZM180-400h160v-160H180v160Zm440 0h160v-160H620v160ZM180-180h160v-160H180v160Zm440 0h160v-160H620v160Z\"/>\n",
              "  </svg>\n",
              "    </button>\n",
              "\n",
              "  <style>\n",
              "    .colab-df-container {\n",
              "      display:flex;\n",
              "      gap: 12px;\n",
              "    }\n",
              "\n",
              "    .colab-df-convert {\n",
              "      background-color: #E8F0FE;\n",
              "      border: none;\n",
              "      border-radius: 50%;\n",
              "      cursor: pointer;\n",
              "      display: none;\n",
              "      fill: #1967D2;\n",
              "      height: 32px;\n",
              "      padding: 0 0 0 0;\n",
              "      width: 32px;\n",
              "    }\n",
              "\n",
              "    .colab-df-convert:hover {\n",
              "      background-color: #E2EBFA;\n",
              "      box-shadow: 0px 1px 2px rgba(60, 64, 67, 0.3), 0px 1px 3px 1px rgba(60, 64, 67, 0.15);\n",
              "      fill: #174EA6;\n",
              "    }\n",
              "\n",
              "    .colab-df-buttons div {\n",
              "      margin-bottom: 4px;\n",
              "    }\n",
              "\n",
              "    [theme=dark] .colab-df-convert {\n",
              "      background-color: #3B4455;\n",
              "      fill: #D2E3FC;\n",
              "    }\n",
              "\n",
              "    [theme=dark] .colab-df-convert:hover {\n",
              "      background-color: #434B5C;\n",
              "      box-shadow: 0px 1px 3px 1px rgba(0, 0, 0, 0.15);\n",
              "      filter: drop-shadow(0px 1px 2px rgba(0, 0, 0, 0.3));\n",
              "      fill: #FFFFFF;\n",
              "    }\n",
              "  </style>\n",
              "\n",
              "    <script>\n",
              "      const buttonEl =\n",
              "        document.querySelector('#df-362e1a7f-3250-4cbc-a096-4cb599750fb5 button.colab-df-convert');\n",
              "      buttonEl.style.display =\n",
              "        google.colab.kernel.accessAllowed ? 'block' : 'none';\n",
              "\n",
              "      async function convertToInteractive(key) {\n",
              "        const element = document.querySelector('#df-362e1a7f-3250-4cbc-a096-4cb599750fb5');\n",
              "        const dataTable =\n",
              "          await google.colab.kernel.invokeFunction('convertToInteractive',\n",
              "                                                    [key], {});\n",
              "        if (!dataTable) return;\n",
              "\n",
              "        const docLinkHtml = 'Like what you see? Visit the ' +\n",
              "          '<a target=\"_blank\" href=https://colab.research.google.com/notebooks/data_table.ipynb>data table notebook</a>'\n",
              "          + ' to learn more about interactive tables.';\n",
              "        element.innerHTML = '';\n",
              "        dataTable['output_type'] = 'display_data';\n",
              "        await google.colab.output.renderOutput(dataTable, element);\n",
              "        const docLink = document.createElement('div');\n",
              "        docLink.innerHTML = docLinkHtml;\n",
              "        element.appendChild(docLink);\n",
              "      }\n",
              "    </script>\n",
              "  </div>\n",
              "\n",
              "\n",
              "<div id=\"df-de6443af-2679-4d65-8c6a-e8d5e5c6744d\">\n",
              "  <button class=\"colab-df-quickchart\" onclick=\"quickchart('df-de6443af-2679-4d65-8c6a-e8d5e5c6744d')\"\n",
              "            title=\"Suggest charts\"\n",
              "            style=\"display:none;\">\n",
              "\n",
              "<svg xmlns=\"http://www.w3.org/2000/svg\" height=\"24px\"viewBox=\"0 0 24 24\"\n",
              "     width=\"24px\">\n",
              "    <g>\n",
              "        <path d=\"M19 3H5c-1.1 0-2 .9-2 2v14c0 1.1.9 2 2 2h14c1.1 0 2-.9 2-2V5c0-1.1-.9-2-2-2zM9 17H7v-7h2v7zm4 0h-2V7h2v10zm4 0h-2v-4h2v4z\"/>\n",
              "    </g>\n",
              "</svg>\n",
              "  </button>\n",
              "\n",
              "<style>\n",
              "  .colab-df-quickchart {\n",
              "      --bg-color: #E8F0FE;\n",
              "      --fill-color: #1967D2;\n",
              "      --hover-bg-color: #E2EBFA;\n",
              "      --hover-fill-color: #174EA6;\n",
              "      --disabled-fill-color: #AAA;\n",
              "      --disabled-bg-color: #DDD;\n",
              "  }\n",
              "\n",
              "  [theme=dark] .colab-df-quickchart {\n",
              "      --bg-color: #3B4455;\n",
              "      --fill-color: #D2E3FC;\n",
              "      --hover-bg-color: #434B5C;\n",
              "      --hover-fill-color: #FFFFFF;\n",
              "      --disabled-bg-color: #3B4455;\n",
              "      --disabled-fill-color: #666;\n",
              "  }\n",
              "\n",
              "  .colab-df-quickchart {\n",
              "    background-color: var(--bg-color);\n",
              "    border: none;\n",
              "    border-radius: 50%;\n",
              "    cursor: pointer;\n",
              "    display: none;\n",
              "    fill: var(--fill-color);\n",
              "    height: 32px;\n",
              "    padding: 0;\n",
              "    width: 32px;\n",
              "  }\n",
              "\n",
              "  .colab-df-quickchart:hover {\n",
              "    background-color: var(--hover-bg-color);\n",
              "    box-shadow: 0 1px 2px rgba(60, 64, 67, 0.3), 0 1px 3px 1px rgba(60, 64, 67, 0.15);\n",
              "    fill: var(--button-hover-fill-color);\n",
              "  }\n",
              "\n",
              "  .colab-df-quickchart-complete:disabled,\n",
              "  .colab-df-quickchart-complete:disabled:hover {\n",
              "    background-color: var(--disabled-bg-color);\n",
              "    fill: var(--disabled-fill-color);\n",
              "    box-shadow: none;\n",
              "  }\n",
              "\n",
              "  .colab-df-spinner {\n",
              "    border: 2px solid var(--fill-color);\n",
              "    border-color: transparent;\n",
              "    border-bottom-color: var(--fill-color);\n",
              "    animation:\n",
              "      spin 1s steps(1) infinite;\n",
              "  }\n",
              "\n",
              "  @keyframes spin {\n",
              "    0% {\n",
              "      border-color: transparent;\n",
              "      border-bottom-color: var(--fill-color);\n",
              "      border-left-color: var(--fill-color);\n",
              "    }\n",
              "    20% {\n",
              "      border-color: transparent;\n",
              "      border-left-color: var(--fill-color);\n",
              "      border-top-color: var(--fill-color);\n",
              "    }\n",
              "    30% {\n",
              "      border-color: transparent;\n",
              "      border-left-color: var(--fill-color);\n",
              "      border-top-color: var(--fill-color);\n",
              "      border-right-color: var(--fill-color);\n",
              "    }\n",
              "    40% {\n",
              "      border-color: transparent;\n",
              "      border-right-color: var(--fill-color);\n",
              "      border-top-color: var(--fill-color);\n",
              "    }\n",
              "    60% {\n",
              "      border-color: transparent;\n",
              "      border-right-color: var(--fill-color);\n",
              "    }\n",
              "    80% {\n",
              "      border-color: transparent;\n",
              "      border-right-color: var(--fill-color);\n",
              "      border-bottom-color: var(--fill-color);\n",
              "    }\n",
              "    90% {\n",
              "      border-color: transparent;\n",
              "      border-bottom-color: var(--fill-color);\n",
              "    }\n",
              "  }\n",
              "</style>\n",
              "\n",
              "  <script>\n",
              "    async function quickchart(key) {\n",
              "      const quickchartButtonEl =\n",
              "        document.querySelector('#' + key + ' button');\n",
              "      quickchartButtonEl.disabled = true;  // To prevent multiple clicks.\n",
              "      quickchartButtonEl.classList.add('colab-df-spinner');\n",
              "      try {\n",
              "        const charts = await google.colab.kernel.invokeFunction(\n",
              "            'suggestCharts', [key], {});\n",
              "      } catch (error) {\n",
              "        console.error('Error during call to suggestCharts:', error);\n",
              "      }\n",
              "      quickchartButtonEl.classList.remove('colab-df-spinner');\n",
              "      quickchartButtonEl.classList.add('colab-df-quickchart-complete');\n",
              "    }\n",
              "    (() => {\n",
              "      let quickchartButtonEl =\n",
              "        document.querySelector('#df-de6443af-2679-4d65-8c6a-e8d5e5c6744d button');\n",
              "      quickchartButtonEl.style.display =\n",
              "        google.colab.kernel.accessAllowed ? 'block' : 'none';\n",
              "    })();\n",
              "  </script>\n",
              "</div>\n",
              "    </div>\n",
              "  </div>\n"
            ],
            "application/vnd.google.colaboratory.intrinsic+json": {
              "type": "dataframe",
              "variable_name": "df",
              "summary": "{\n  \"name\": \"df\",\n  \"rows\": 5351,\n  \"fields\": [\n    {\n      \"column\": \"Unnamed: 0\",\n      \"properties\": {\n        \"dtype\": \"number\",\n        \"std\": 1544,\n        \"min\": 0,\n        \"max\": 5350,\n        \"num_unique_values\": 5351,\n        \"samples\": [\n          3413,\n          1650,\n          401\n        ],\n        \"semantic_type\": \"\",\n        \"description\": \"\"\n      }\n    },\n    {\n      \"column\": \"Text\",\n      \"properties\": {\n        \"dtype\": \"string\",\n        \"num_unique_values\": 5347,\n        \"samples\": [\n          \"from   bill higgins   beam jockey  subject  re  level     in article    bret wingert  writes       the onboard flight software project was rated  level    by a nasa team       this group generates       kslocs of verified code per year for nasa   will someone tell an ignorant physicist where the term  level    comes from  it sounds like the risks digest  equivalent of large  extra large  jumbo    or maybe it s like  defcon        i gather it means that shuttle software was developed with extreme care to have reliablility and safety  and almost everything else in the computing world is level    or cheesy dime store software   not surprising   but who is it that invents this standard  and how come everyone but me seems to be familiar with it   of course  what shakespeare          bill higgins  beam jockey originally wrote was  first thing    fermi national accelerator laboratory   we do  let s kill all the editors    bitnet              but for some reason it didn t        internet          survive past the first draft         span hepnet                   higgins      david d   laserdave  levine \",\n          \"from   frank michae salvatore  subject  nc caps isles fans   caps isles fans   anyone interested in catching the games from nassau coliseum  hopefully there will be another  can catch the game at north carolina s original sports bar in chapel hill   i m pretty sure they carry hts as well  they had all three games on at the same time last night   this is the only place i know to catch all of the stanley cup action   frank salvatore \",\n          \"from   dave o shea  subject  re  if drugs should be legalized  how    was good neighbor       william december starr  writes       however  legalizing it and just sticking some drugs in gas stations to     be bought like cigarettes is just plain silly   plus  i have never     heard of a recommended dosage for drugs like crack  ecstasy  chrystal     meth and lsd   the    minute report said it worked with  cocaine      cigarettes  pot and heroin       or  the government could adopt the radical and probably unamerican idea   that citizens are free to live their lives as they wish  and simply   decriminalize cocaine  marijuana  heroin  lsd  etc   please explain why   the idea of allowing recreational drugs to be  bought like cigarettes    is  just plain silly    after all  it works just fine for nicotine     i m all in favor of drug legalization  but i do see some problems with it  my hope is that people disposed to doing so would simply overdose quickly  and be done with it  before making a mess of thisgs      let me get this straight  medical treatment costs too much and is inefficient  so we re going to let government make it better   \"\n        ],\n        \"semantic_type\": \"\",\n        \"description\": \"\"\n      }\n    },\n    {\n      \"column\": \"Label\",\n      \"properties\": {\n        \"dtype\": \"category\",\n        \"num_unique_values\": 6,\n        \"samples\": [\n          \"politics\",\n          \"religion\",\n          \"baseball\"\n        ],\n        \"semantic_type\": \"\",\n        \"description\": \"\"\n      }\n    }\n  ]\n}"
            }
          },
          "metadata": {},
          "execution_count": 84
        }
      ]
    },
    {
      "cell_type": "code",
      "source": [
        "import nltk\n",
        "nltk.download('stopwords')\n",
        "nltk.download('stopwords')\n",
        "nltk.download('punkt')"
      ],
      "metadata": {
        "colab": {
          "base_uri": "https://localhost:8080/"
        },
        "id": "xcpxjliezlEe",
        "outputId": "571da248-27e9-4d1b-fa7b-348ba8929024"
      },
      "execution_count": null,
      "outputs": [
        {
          "output_type": "stream",
          "name": "stderr",
          "text": [
            "[nltk_data] Downloading package stopwords to /root/nltk_data...\n",
            "[nltk_data]   Package stopwords is already up-to-date!\n",
            "[nltk_data] Downloading package stopwords to /root/nltk_data...\n",
            "[nltk_data]   Package stopwords is already up-to-date!\n",
            "[nltk_data] Downloading package punkt to /root/nltk_data...\n",
            "[nltk_data]   Package punkt is already up-to-date!\n"
          ]
        },
        {
          "output_type": "execute_result",
          "data": {
            "text/plain": [
              "True"
            ]
          },
          "metadata": {},
          "execution_count": 85
        }
      ]
    },
    {
      "cell_type": "code",
      "source": [
        "from nltk.tokenize import word_tokenize\n",
        "# Tokenization and stop word removal function\n",
        "stop_words = set(stopwords.words('english'))\n",
        "def preprocess_text(text):\n",
        "    tokens = word_tokenize(text)\n",
        "    tokens = [word.lower() for word in tokens if word.isalpha()]\n",
        "    tokens = [word for word in tokens if word not in stop_words]\n",
        "    return \" \".join(tokens)\n",
        "\n",
        "# Preprocess the text\n",
        "df['Text'] = df['Text'].apply(preprocess_text)\n",
        "\n",
        "\n",
        "\n"
      ],
      "metadata": {
        "id": "XCGYLQqHzR6K"
      },
      "execution_count": null,
      "outputs": []
    },
    {
      "cell_type": "code",
      "source": [
        "df['Text']"
      ],
      "metadata": {
        "colab": {
          "base_uri": "https://localhost:8080/"
        },
        "id": "GJfL0ySJ0QDm",
        "outputId": "bf53e9d1-3962-4ed0-e9e9-cce02cd6d8b3"
      },
      "execution_count": null,
      "outputs": [
        {
          "output_type": "execute_result",
          "data": {
            "text/plain": [
              "0       phill hallam baker subject waco survivors apri...\n",
              "1       matthew russotto subject welcome police state ...\n",
              "2       russ curry subject janet reno killed waco chil...\n",
              "3       paul havemann subject gore throws first ball m...\n",
              "4       clinton gore subject clinton president radio i...\n",
              "                              ...                        \n",
              "5346    alan sepinwall subject wfan article ian derby ...\n",
              "5347    sherri nichols subject relative value players ...\n",
              "5348    david robert walker subject speed games margin...\n",
              "5349    dale stephenson subject giants gm quinn genius...\n",
              "5350    liberalizer michael lurie subject yankee medit...\n",
              "Name: Text, Length: 5351, dtype: object"
            ]
          },
          "metadata": {},
          "execution_count": 87
        }
      ]
    },
    {
      "cell_type": "code",
      "source": [
        "from keras.preprocessing.text import Tokenizer\n",
        "tokenizer = Tokenizer()\n",
        "tokenizer.fit_on_texts(df['Text'])\n",
        "sequences = tokenizer.texts_to_sequences(df['Text'])\n",
        "\n",
        "# Pad sequences to make them uniform length\n",
        "max_len = max([len(seq) for seq in sequences])\n",
        "sequences_padded = pad_sequences(sequences, maxlen=max_len)"
      ],
      "metadata": {
        "id": "BelrhoT6z8dp"
      },
      "execution_count": null,
      "outputs": []
    },
    {
      "cell_type": "code",
      "source": [
        "sequences_padded"
      ],
      "metadata": {
        "colab": {
          "base_uri": "https://localhost:8080/"
        },
        "id": "KF14H8bR0tsh",
        "outputId": "6ba89dfa-bd7e-421c-9294-17c20a2de444"
      },
      "execution_count": null,
      "outputs": [
        {
          "output_type": "execute_result",
          "data": {
            "text/plain": [
              "array([[   0,    0,    0, ..., 1670, 2239, 1654],\n",
              "       [   0,    0,    0, ..., 3227,  335, 1135],\n",
              "       [   0,    0,    0, ...,   61,  905, 6548],\n",
              "       ...,\n",
              "       [   0,    0,    0, ...,   18,  480, 9204],\n",
              "       [   0,    0,    0, ...,  144, 2325, 5156],\n",
              "       [   0,    0,    0, ..., 2392, 1916,   19]], dtype=int32)"
            ]
          },
          "metadata": {},
          "execution_count": 89
        }
      ]
    },
    {
      "cell_type": "code",
      "source": [
        "label_mapping = {label: i for i, label in enumerate(df['Label'].unique())}\n",
        "labels = df['Label'].map(label_mapping)\n"
      ],
      "metadata": {
        "id": "-CwERnhK1JW3"
      },
      "execution_count": null,
      "outputs": []
    },
    {
      "cell_type": "code",
      "source": [
        "from sklearn.model_selection import train_test_split\n",
        "from keras.models import Sequential\n",
        "from keras.layers import Embedding, SimpleRNN, LSTM, GRU, Dense\n",
        "X_train, X_test, y_train, y_test = train_test_split(sequences_padded, labels, test_size=0.2, random_state=42)\n",
        "\n",
        "# Build and train RNN model\n",
        "rnn_model = Sequential()\n",
        "rnn_model.add(Embedding(input_dim=len(tokenizer.word_index) + 1, output_dim=100, input_length=max_len))\n",
        "rnn_model.add(SimpleRNN(64))\n",
        "rnn_model.add(Dense(len(label_mapping), activation='softmax'))\n",
        "rnn_model.compile(optimizer='adam', loss='sparse_categorical_crossentropy', metrics=['accuracy'])\n",
        "rnn_history = rnn_model.fit(X_train, y_train, epochs=3, batch_size=128, validation_split=0.2)\n",
        "\n",
        "\n",
        "\n",
        "\n",
        "\n",
        "\n",
        "\n",
        "\n"
      ],
      "metadata": {
        "colab": {
          "base_uri": "https://localhost:8080/"
        },
        "id": "NJvyFsLA1YyI",
        "outputId": "ca306435-1339-42c7-96a7-0b0198cdcb5c"
      },
      "execution_count": null,
      "outputs": [
        {
          "output_type": "stream",
          "name": "stdout",
          "text": [
            "Epoch 1/3\n",
            "27/27 [==============================] - 276s 10s/step - loss: 1.6860 - accuracy: 0.3233 - val_loss: 1.5544 - val_accuracy: 0.4393\n",
            "Epoch 2/3\n",
            "27/27 [==============================] - 279s 10s/step - loss: 0.9817 - accuracy: 0.9159 - val_loss: 1.2351 - val_accuracy: 0.5654\n",
            "Epoch 3/3\n",
            "27/27 [==============================] - 284s 11s/step - loss: 0.4411 - accuracy: 0.9880 - val_loss: 1.1829 - val_accuracy: 0.5654\n"
          ]
        }
      ]
    },
    {
      "cell_type": "code",
      "source": [
        "input_dim=len(tokenizer.word_index)\n",
        "input_dim"
      ],
      "metadata": {
        "colab": {
          "base_uri": "https://localhost:8080/"
        },
        "id": "wx6ZjenJAW9I",
        "outputId": "e3615ad6-1a12-4c26-8290-3791fedd4dec"
      },
      "execution_count": null,
      "outputs": [
        {
          "output_type": "execute_result",
          "data": {
            "text/plain": [
              "43228"
            ]
          },
          "metadata": {},
          "execution_count": 93
        }
      ]
    },
    {
      "cell_type": "code",
      "source": [
        "# Build and train LSTM model\n",
        "lstm_model = Sequential()\n",
        "lstm_model.add(Embedding(input_dim=len(tokenizer.word_index) + 1, output_dim=100, input_length=max_len))\n",
        "lstm_model.add(LSTM(64))\n",
        "lstm_model.add(Dense(len(label_mapping), activation='softmax'))\n",
        "lstm_model.compile(optimizer='adam', loss='sparse_categorical_crossentropy', metrics=['accuracy'])\n",
        "lstm_history = lstm_model.fit(X_train, y_train, epochs=3, batch_size=128, validation_split=0.2)"
      ],
      "metadata": {
        "colab": {
          "base_uri": "https://localhost:8080/"
        },
        "id": "BLfOe81t8l9y",
        "outputId": "c6e00b15-731e-40b0-ad4b-3209354ac8aa"
      },
      "execution_count": null,
      "outputs": [
        {
          "output_type": "stream",
          "name": "stdout",
          "text": [
            "Epoch 1/3\n",
            "27/27 [==============================] - 643s 23s/step - loss: 1.7405 - accuracy: 0.2795 - val_loss: 1.5118 - val_accuracy: 0.4089\n",
            "Epoch 2/3\n",
            "27/27 [==============================] - 622s 23s/step - loss: 1.3285 - accuracy: 0.4544 - val_loss: 1.0955 - val_accuracy: 0.6028\n",
            "Epoch 3/3\n",
            "27/27 [==============================] - 622s 23s/step - loss: 0.8655 - accuracy: 0.7427 - val_loss: 0.8516 - val_accuracy: 0.7512\n"
          ]
        }
      ]
    },
    {
      "cell_type": "code",
      "source": [
        "\n",
        "# Build and train GRU model\n",
        "gru_model = Sequential()\n",
        "gru_model.add(Embedding(input_dim=len(tokenizer.word_index) + 1, output_dim=100, input_length=max_len))\n",
        "gru_model.add(GRU(64))\n",
        "gru_model.add(Dense(len(label_mapping), activation='softmax'))\n",
        "gru_model.compile(optimizer='adam', loss='sparse_categorical_crossentropy', metrics=['accuracy'])\n",
        "gru_history = gru_model.fit(X_train, y_train, epochs=3, batch_size=128, validation_split=0.2)"
      ],
      "metadata": {
        "colab": {
          "base_uri": "https://localhost:8080/"
        },
        "id": "4_xBROzbQMab",
        "outputId": "35541638-08e4-4809-b2ad-6fd63d71fb67"
      },
      "execution_count": null,
      "outputs": [
        {
          "output_type": "stream",
          "name": "stdout",
          "text": [
            "Epoch 1/3\n",
            "27/27 [==============================] - 612s 22s/step - loss: 1.7565 - accuracy: 0.3148 - val_loss: 1.6908 - val_accuracy: 0.4860\n",
            "Epoch 2/3\n",
            "27/27 [==============================] - 568s 21s/step - loss: 1.4304 - accuracy: 0.6037 - val_loss: 1.1940 - val_accuracy: 0.5736\n",
            "Epoch 3/3\n",
            "27/27 [==============================] - 542s 20s/step - loss: 0.7093 - accuracy: 0.7348 - val_loss: 0.7597 - val_accuracy: 0.6928\n"
          ]
        }
      ]
    },
    {
      "cell_type": "code",
      "source": [
        "# Plot RNN model training and validation metrics\n",
        "import matplotlib.pyplot as plt\n",
        "\n",
        "plt.plot(rnn_history.history['loss'], label='RNN - Training Loss')\n",
        "plt.plot(rnn_history.history['val_loss'], label='RNN - Validation Loss')\n",
        "plt.plot(rnn_history.history['accuracy'], label='RNN - Training Accuracy')\n",
        "plt.plot(rnn_history.history['val_accuracy'], label='RNN - Validation Accuracy')\n",
        "plt.title('RNN - Training and Validation Metrics')\n",
        "plt.xlabel('Epochs')\n",
        "plt.ylabel('Metrics')\n",
        "plt.legend()\n",
        "plt.show()"
      ],
      "metadata": {
        "colab": {
          "base_uri": "https://localhost:8080/",
          "height": 472
        },
        "id": "s5vRbvs58t76",
        "outputId": "b6203d76-26d3-4afe-c431-54d86b8f723d"
      },
      "execution_count": null,
      "outputs": [
        {
          "output_type": "display_data",
          "data": {
            "text/plain": [
              "<Figure size 640x480 with 1 Axes>"
            ],
            "image/png": "[encoded data removed]"
          },
          "metadata": {}
        }
      ]
    },
    {
      "cell_type": "code",
      "source": [
        "# Plot LSTM model training and validation metrics\n",
        "plt.plot(lstm_history.history['loss'], label='LSTM - Training Loss')\n",
        "plt.plot(lstm_history.history['val_loss'], label='LSTM - Validation Loss')\n",
        "plt.plot(lstm_history.history['accuracy'], label='LSTM - Training Accuracy')\n",
        "plt.plot(lstm_history.history['val_accuracy'], label='LSTM - Validation Accuracy')\n",
        "plt.title('LSTM - Training and Validation Metrics')\n",
        "plt.xlabel('Epochs')\n",
        "plt.ylabel('Metrics')\n",
        "plt.legend()\n",
        "plt.show()"
      ],
      "metadata": {
        "colab": {
          "base_uri": "https://localhost:8080/",
          "height": 472
        },
        "id": "ZKvBt3xX8wWW",
        "outputId": "1ecaef3c-106f-4ee1-d077-0a23e0f62b63"
      },
      "execution_count": null,
      "outputs": [
        {
          "output_type": "display_data",
          "data": {
            "text/plain": [
              "<Figure size 640x480 with 1 Axes>"
            ],
            "image/png": "[encoded data removed]"
          },
          "metadata": {}
        }
      ]
    },
    {
      "cell_type": "code",
      "source": [
        "# Plot GRU model training and validation metrics\n",
        "plt.plot(gru_history.history['loss'], label='GRU - Training Loss')\n",
        "plt.plot(gru_history.history['val_loss'], label='GRU - Validation Loss')\n",
        "plt.plot(gru_history.history['accuracy'], label='GRU - Training Accuracy')\n",
        "plt.plot(gru_history.history['val_accuracy'], label='GRU - Validation Accuracy')\n",
        "plt.title('GRU - Training and Validation Metrics')\n",
        "plt.xlabel('Epochs')\n",
        "plt.ylabel('Metrics')\n",
        "plt.legend()\n",
        "plt.show()"
      ],
      "metadata": {
        "colab": {
          "base_uri": "https://localhost:8080/",
          "height": 472
        },
        "id": "BzHyCAcj8zH9",
        "outputId": "9c940a08-c019-4ee7-ae35-ce4c22b78f97"
      },
      "execution_count": null,
      "outputs": [
        {
          "output_type": "display_data",
          "data": {
            "text/plain": [
              "<Figure size 640x480 with 1 Axes>"
            ],
            "image/png": "[encoded data removed]"
          },
          "metadata": {}
        }
      ]
    },
    {
      "cell_type": "code",
      "source": [
        "import numpy as np\n",
        "\n",
        "# Make predictions using RNN model\n",
        "rnn_predictions = rnn_model.predict(X_test)\n",
        "\n",
        "# Make predictions using LSTM model\n",
        "lstm_predictions = lstm_model.predict(X_test)\n",
        "\n",
        "# Make predictions using GRU model\n",
        "gru_predictions = gru_model.predict(X_test)\n",
        "\n",
        "# Example: Convert predictions back to label names\n",
        "rnn_predicted_labels = [list(label_mapping.keys())[np.argmax(pred)] for pred in rnn_predictions]\n",
        "lstm_predicted_labels = [list(label_mapping.keys())[np.argmax(pred)] for pred in lstm_predictions]\n",
        "gru_predicted_labels = [list(label_mapping.keys())[np.argmax(pred)] for pred in gru_predictions]\n",
        "\n",
        "# Example: Print first 10 predictions and true labels for RNN model\n",
        "print(\"RNN Predictions:\")\n",
        "for i in range(10):\n",
        "    print(f\"Predicted: {rnn_predicted_labels[i]}, True: {df['Label'].iloc[i]}\")\n",
        "\n",
        "# Example: Print first 10 predictions and true labels for LSTM model\n",
        "print(\"\\nLSTM Predictions:\")\n",
        "for i in range(10):\n",
        "    print(f\"Predicted: {lstm_predicted_labels[i]}, True: {df['Label'].iloc[i]}\")\n",
        "\n",
        "# Example: Print first 10 predictions and true labels for GRU model\n",
        "print(\"\\nGRU Predictions:\")\n",
        "for i in range(10):\n",
        "    print(f\"Predicted: {gru_predicted_labels[i]}, True: {df['Label'].iloc[i]}\")\n"
      ],
      "metadata": {
        "colab": {
          "base_uri": "https://localhost:8080/"
        },
        "id": "e6lfjIhu9Zdu",
        "outputId": "acba5cc9-8c34-4904-e81a-d6b91e7f91a2"
      },
      "execution_count": null,
      "outputs": [
        {
          "output_type": "stream",
          "name": "stdout",
          "text": [
            "34/34 [==============================] - 17s 489ms/step\n",
            "34/34 [==============================] - 36s 1s/step\n",
            "34/34 [==============================] - 31s 902ms/step\n",
            "RNN Predictions:\n",
            "Predicted: hockey, True: politics\n",
            "Predicted: space, True: politics\n",
            "Predicted: medical_science, True: politics\n",
            "Predicted: hockey, True: politics\n",
            "Predicted: hockey, True: politics\n",
            "Predicted: politics, True: politics\n",
            "Predicted: politics, True: politics\n",
            "Predicted: space, True: politics\n",
            "Predicted: medical_science, True: politics\n",
            "Predicted: hockey, True: politics\n",
            "\n",
            "LSTM Predictions:\n",
            "Predicted: hockey, True: politics\n",
            "Predicted: medical_science, True: politics\n",
            "Predicted: hockey, True: politics\n",
            "Predicted: hockey, True: politics\n",
            "Predicted: medical_science, True: politics\n",
            "Predicted: politics, True: politics\n",
            "Predicted: politics, True: politics\n",
            "Predicted: space, True: politics\n",
            "Predicted: medical_science, True: politics\n",
            "Predicted: hockey, True: politics\n",
            "\n",
            "GRU Predictions:\n",
            "Predicted: hockey, True: politics\n",
            "Predicted: medical_science, True: politics\n",
            "Predicted: politics, True: politics\n",
            "Predicted: hockey, True: politics\n",
            "Predicted: hockey, True: politics\n",
            "Predicted: politics, True: politics\n",
            "Predicted: politics, True: politics\n",
            "Predicted: space, True: politics\n",
            "Predicted: medical_science, True: politics\n",
            "Predicted: hockey, True: politics\n"
          ]
        }
      ]
    },
    {
      "cell_type": "code",
      "source": [
        "from keras.layers import Flatten\n",
        "\n",
        "# Build and train FNN model\n",
        "fnn_model = Sequential()\n",
        "fnn_model.add(Embedding(input_dim=len(tokenizer.word_index) + 1, output_dim=100, input_length=max_len))\n",
        "fnn_model.add(Flatten())\n",
        "fnn_model.add(Dense(64, activation='relu'))\n",
        "fnn_model.add(Dense(len(label_mapping), activation='softmax'))\n",
        "fnn_model.compile(optimizer='adam', loss='sparse_categorical_crossentropy', metrics=['accuracy'])\n",
        "fnn_history = fnn_model.fit(X_train, y_train, epochs=3, batch_size=128, validation_split=0.2)\n",
        "\n",
        "# Make predictions using FNN model\n",
        "fnn_predictions = fnn_model.predict(X_test)\n",
        "\n",
        "# Example: Convert predictions back to label names\n",
        "fnn_predicted_labels = [list(label_mapping.keys())[np.argmax(pred)] for pred in fnn_predictions]\n",
        "\n",
        "# Example: Print first 10 predictions and true labels for FNN model\n",
        "print(\"\\nFNN Predictions:\")\n",
        "for i in range(10):\n",
        "    print(f\"Predicted: {fnn_predicted_labels[i]}, True: {df['Label'].iloc[i]}\")\n"
      ],
      "metadata": {
        "colab": {
          "base_uri": "https://localhost:8080/"
        },
        "id": "kQ6nuhtI-BE-",
        "outputId": "9b519f61-b7b7-44b2-c001-e750ddd205cf"
      },
      "execution_count": null,
      "outputs": [
        {
          "output_type": "stream",
          "name": "stdout",
          "text": [
            "Epoch 1/3\n",
            "27/27 [==============================] - 76s 3s/step - loss: 6.5234 - accuracy: 0.1662 - val_loss: 1.8063 - val_accuracy: 0.1133\n",
            "Epoch 2/3\n",
            "27/27 [==============================] - 69s 3s/step - loss: 1.7981 - accuracy: 0.1735 - val_loss: 1.8014 - val_accuracy: 0.1799\n",
            "Epoch 3/3\n",
            "27/27 [==============================] - 72s 3s/step - loss: 1.7883 - accuracy: 0.1895 - val_loss: 1.7976 - val_accuracy: 0.1811\n",
            "34/34 [==============================] - 5s 137ms/step\n",
            "\n",
            "FNN Predictions:\n",
            "Predicted: hockey, True: politics\n",
            "Predicted: hockey, True: politics\n",
            "Predicted: hockey, True: politics\n",
            "Predicted: hockey, True: politics\n",
            "Predicted: hockey, True: politics\n",
            "Predicted: hockey, True: politics\n",
            "Predicted: hockey, True: politics\n",
            "Predicted: hockey, True: politics\n",
            "Predicted: hockey, True: politics\n",
            "Predicted: hockey, True: politics\n"
          ]
        }
      ]
    }
  ]
}